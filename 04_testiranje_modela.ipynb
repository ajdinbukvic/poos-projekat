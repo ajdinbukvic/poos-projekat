{
 "cells": [
  {
   "cell_type": "code",
   "execution_count": null,
   "metadata": {},
   "outputs": [],
   "source": [
    "#importi"
   ]
  },
  {
   "cell_type": "code",
   "execution_count": null,
   "metadata": {},
   "outputs": [],
   "source": [
    "model = load_model(\"./modeli/model_1.keras\")"
   ]
  },
  {
   "cell_type": "code",
   "execution_count": null,
   "metadata": {},
   "outputs": [],
   "source": [
    "# evaluate the network\n",
    "print(\"[INFO] evaluating the network...\")\n",
    "predictions = model.predict(testX, batch_size=BS)\n",
    "print(classification_report(testY.argmax(axis=1), predictions.argmax(axis=1),\n",
    "                            target_names=labelNames))\n",
    "\n",
    "# save the network to disk \n",
    "print(\"serializing the network '{}'...\".format(args[\"model\"]))\n",
    "model.save(args[\"model\"])"
   ]
  },
  {
   "cell_type": "code",
   "execution_count": null,
   "metadata": {},
   "outputs": [],
   "source": [
    "args = {\n",
    "    \"model\": \"/kaggle/working/trafficsignnet.model\",\n",
    "    \"images\": \"/kaggle/input/gtsrb-german-traffic-sign/Test\",\n",
    "    \"examples\" : \"/kaggle/working/examples\"\n",
    "}\n",
    "\n",
    "# load the traffic sign recognizer model\n",
    "print(\"[INFO] loading model...\")\n",
    "model = load_model(args[\"model\"])\n",
    "\n",
    "# load the label names\n",
    "labelNames = open(\"/kaggle/input/signnames/signnames.csv\").read().strip().split(\"\\n\")[1:]\n",
    "labelNames = [l.split(\",\")[1] for l in labelNames]\n",
    "\n",
    "# grab the paths to the input images, shuffle them, and grab a sample\n",
    "print(\"[INFO] predicting...\")\n",
    "imagePaths = list(paths.list_images(args[\"images\"]))\n",
    "random.shuffle(imagePaths)\n",
    "imagePaths = imagePaths[:25]"
   ]
  },
  {
   "cell_type": "code",
   "execution_count": null,
   "metadata": {},
   "outputs": [],
   "source": [
    "# loop over the image paths\n",
    "for (i, imagePath) in enumerate(imagePaths):\n",
    "    # load the image, resize it to 32x32 pixels, and then apply\n",
    "    # Contrast Limited Adaptive Histogram Equalization (CLAHE),\n",
    "    # just like we did during training\n",
    "    image = io.imread(imagePath)\n",
    "    image = transform.resize(image, (32, 32))\n",
    "    image = exposure.equalize_adapthist(image, clip_limit=0.1)\n",
    "\n",
    "    # preprocess the image by scaling it to the range [0, 1]\n",
    "    image = image.astype(\"float32\") / 255.0\n",
    "    image = np.expand_dims(image, axis=0)\n",
    "\n",
    "    # make predictions using the traffic sign recognizer CNN\n",
    "    preds = model.predict(image)\n",
    "    j = preds.argmax(axis=1)[0]\n",
    "    label = labelNames[j]\n",
    "\n",
    "    # load the image using OpenCV, resize it, and draw the label\n",
    "    # on it\n",
    "    image = cv2.imread(imagePath)\n",
    "    image = imutils.resize(image, width=128)\n",
    "    cv2.putText(image, label, (5, 15), cv2.FONT_HERSHEY_SIMPLEX,\n",
    "        0.45, (0, 0, 255), 2)\n",
    "\n",
    "    # save the image to disk\n",
    "    p = os.path.sep.join([args[\"examples\"], \"{}.png\".format(i)])\n",
    "    cv2.imwrite(p, image)"
   ]
  },
  {
   "cell_type": "code",
   "execution_count": null,
   "metadata": {},
   "outputs": [],
   "source": [
    "# Reload the model\n",
    "model = load_model('./road_sign.h5')\n",
    "\n",
    "# Get the predictions for the test data set\n",
    "predicted_classes = np.argmax(cnn_model.predict(X_test_grscale_norm), axis=-1)\n",
    "\n",
    "# Retrieve the indices that we will plot\n",
    "y_true = y_test\n",
    "\n",
    "# Plot some of the predictions on the test data set\n",
    "for i in range(15):\n",
    "  plt.subplot(5,3,i+1)\n",
    "  plt.imshow(X_test_grscale_norm[i].squeeze(), \n",
    "    cmap='gray', interpolation='none')\n",
    "  plt.title(\"Predict {}, Actual {}\".format(predicted_classes[i], \n",
    "    y_true[i]), fontsize=10)\n",
    "plt.tight_layout()\n",
    "plt.savefig('road_sign_output.png')\n",
    "plt.show()"
   ]
  },
  {
   "cell_type": "code",
   "execution_count": null,
   "metadata": {},
   "outputs": [],
   "source": [
    "def sign_predict(image):\n",
    "    model = load_model('./keras_model/')    \n",
    "    image = np.array(image, dtype=np.float32)    \n",
    "    image = image/255    \n",
    "    image = np.reshape(image, (1, 32, 32))    \n",
    "    x = image.astype(np.float32)    \n",
    "    prediction = model.predict(x)    \n",
    "    prediction_max = np.argmax(prediction)    \n",
    "    prediction_label = labels_dict[prediction_max]    \n",
    "    confidence = np.max(prediction)    \n",
    "    return prediction_label, confidence"
   ]
  },
  {
   "cell_type": "code",
   "execution_count": null,
   "metadata": {},
   "outputs": [],
   "source": [
    "import sys\n",
    "import glob\n",
    "import matplotlib.image as mpimg\n",
    "\n",
    "# Download at least 5 pictures of German traffic signs from the web\n",
    "# Street view of germany in google maps\n",
    "X_test_web = []\n",
    "filenames = []\n",
    "files = glob.glob('assets/data/images/web_gts/*')\n",
    "for file in files:\n",
    "    if sys.platform == 'win32':\n",
    "        filename = file.split('\\\\')[-1]\n",
    "    elif sys.platform == 'linux':\n",
    "        filename = file.split('/')[-1]\n",
    "    filenames.append(filename)\n",
    "    image = mpimg.imread(file)\n",
    "    X_test_web.append(image)\n",
    "\n",
    "# load class_ID:sign_name as key:value pair into dictionary\n",
    "web_sign_dict = {}\n",
    "with open(\"assets/data/images/web_signnames.csv\") as signnames_file:\n",
    "    reader = csv.reader(signnames_file)\n",
    "    # Skip the first row of the csv file\n",
    "    next(reader)    \n",
    "    for rows in reader:\n",
    "        web_sign_dict[int(rows[1])] = rows[2]\n",
    "\n",
    "web_sign_label = list(web_sign_dict.keys())\n",
    "web_sign_name = list(web_sign_dict.values())\n",
    "    \n",
    "n_web_images = len(X_test_web)\n",
    "\n",
    "# increasing col, increases size of images in subplot. col = 60\n",
    "fig = plt.figure(figsize=(30,20))\n",
    "fig.subplots_adjust(hspace = 0.05, wspace = 0.2)\n",
    "nrows = math.ceil(n_web_images/3) # 2 rows\n",
    "ncols = math.ceil(n_web_images/2) # 3 columns\n",
    "# Plot the web images\n",
    "for i in range(n_web_images):\n",
    "    sub = fig.add_subplot(nrows, ncols, i + 1)\n",
    "    image = X_test_web[i]\n",
    "    title = \"{}: {}\".format(web_sign_label[i], web_sign_name[i])\n",
    "    sub.set_title(title, size=35)\n",
    "    sub.imshow(image, interpolation = 'nearest')\n",
    "    \n",
    "fig.savefig('assets/data/images/output/web_test_images.jpg', bbox_inches='tight')"
   ]
  },
  {
   "cell_type": "code",
   "execution_count": null,
   "metadata": {},
   "outputs": [],
   "source": [
    "#testing accuracy on test dataset\n",
    "from sklearn.metrics import accuracy_score\n",
    "y_test = pd.read_csv('Test.csv')\n",
    "labels = y_test[\"ClassId\"].values\n",
    "imgs = y_test[\"Path\"].values\n",
    "data=[]\n",
    "for img in imgs:\n",
    "    image = Image.open(img)\n",
    "    image = image.resize((30,30))\n",
    "    data.append(np.array(image))\n",
    "X_test=np.array(data)\n",
    "pred = model.predict_classes(X_test)\n",
    "#Accuracy with the test data\n",
    "from sklearn.metrics import accuracy_score\n",
    "print(accuracy_score(labels, pred))\n",
    "model.save(‘traffic_classifier.h5’)"
   ]
  },
  {
   "cell_type": "code",
   "execution_count": null,
   "metadata": {},
   "outputs": [],
   "source": [
    "from sklearn.metrics import accuracy_score\n",
    "test = pd.read_csv(\"/kaggle/input/gtsrb-german-traffic-sign/Test.csv\")\n",
    "test_labels = test['ClassId'].values.tolist()\n",
    "\n",
    "test_img_path = \"/kaggle/input/gtsrb-german-traffic-sign\"\n",
    "test_imgs = test['Path'].values\n",
    "test_data = []\n",
    "\n",
    "for img in test_imgs:\n",
    "    im = Image.open(test_img_path + '/' + img)\n",
    "    im = im.resize((30,30))\n",
    "    im = np.array(im)\n",
    "    test_data.append(im)\n",
    "test_data = np.array(test_data)\n",
    "predictions = model.predict(test_data)\n",
    "classes_x = np.argmax(predictions, axis = 1).tolist()\n",
    "classes_x = np.array([classes_x]).tolist()[0]"
   ]
  },
  {
   "cell_type": "code",
   "execution_count": null,
   "metadata": {},
   "outputs": [],
   "source": [
    "print(\"accuracy: \", accuracy_score(test_labels, classes_x))"
   ]
  },
  {
   "cell_type": "code",
   "execution_count": null,
   "metadata": {},
   "outputs": [],
   "source": [
    "number_of_image_test = 7 #20\n",
    "\n",
    "test_image_name = test_imgs[number_of_image_test]\n",
    "image_label = test_labels[number_of_image_test]\n",
    "plt.figure(0)\n",
    "img_path = test_img_path + '/' + test_image_name\n",
    "img = Image.open(img_path)\n",
    "plt.imshow(img)\n",
    "plt.title(\"Test Image\")\n",
    "plt.figure(1)\n",
    "img_pre = Image.open('/kaggle/input/gtsrb-german-traffic-sign/Meta/' + str(classes_x[number_of_image_test]) + '.png')\n",
    "plt.imshow(img_pre)\n",
    "plt.title(\"Predict Image\")\n",
    "plt.show()"
   ]
  },
  {
   "cell_type": "code",
   "execution_count": null,
   "metadata": {},
   "outputs": [],
   "source": [
    "#loading test images \n",
    "test = pd.read_csv(directory + '/Test.csv')\n",
    "\n",
    "test_labels = test[\"ClassId\"].values\n",
    "test_imgs = test[\"Path\"].values\n",
    "\n",
    "test_data =[]\n",
    "\n",
    "for img in tqdm(test_imgs):\n",
    "    filepath = os.path.join(directory,img)\n",
    "    image = Image.open(filepath)\n",
    "    #resize it to 32 by 32 \n",
    "    image = image.resize((32,32),Image.LANCZOS) \n",
    "    image = np.array(image).astype(np.uint8)\n",
    "    #sharpen contrast\n",
    "    image = exposure.equalize_adapthist(image, clip_limit=0.1) \n",
    "    #rescale back by 255 \n",
    "    image = (image * 255).astype(np.uint8)\n",
    "    #append the data to images_numpy \n",
    "    test_data.append(image)"
   ]
  },
  {
   "cell_type": "code",
   "execution_count": null,
   "metadata": {},
   "outputs": [],
   "source": [
    "#convert to numpy array and check the shape of the test data\n",
    "test_data = np.array(test_data)\n",
    "print(test_labels.shape)\n",
    "print(test_data.shape)"
   ]
  },
  {
   "cell_type": "code",
   "execution_count": null,
   "metadata": {},
   "outputs": [],
   "source": [
    "#Produce classification report for the Test Dataset\n",
    "test_prob = model.predict(test_data)\n",
    "test_predicted_labels = np.argmax(test_prob, axis = 1) #take argmax because the class with the highest probability would be the predicted class\n",
    "test_report = classification_report(test_labels,test_predicted_labels)\n",
    "print('---')\n",
    "print('Classification report for Test Dataset:')\n",
    "print(test_report)"
   ]
  },
  {
   "cell_type": "code",
   "execution_count": null,
   "metadata": {},
   "outputs": [],
   "source": [
    "# testing accuracy on test dataset\n",
    "from sklearn.metrics import accuracy_score\n",
    "\n",
    "# Importing the test dataset\n",
    "y_test = pd.read_csv('../input/gtsrb-german-traffic-sign/Test.csv')\n",
    "\n",
    "labels = y_test[\"ClassId\"].values\n",
    "imgs = y_test[\"Path\"].values\n",
    "\n",
    "data=[]\n",
    "\n",
    "# Retreiving the images\n",
    "with tf.device('/GPU:0'):\n",
    "    for img in imgs:\n",
    "        image = Image.open('../input/gtsrb-german-traffic-sign/'+img)\n",
    "        image = image.resize([30, 30])\n",
    "        data.append(np.array(image))\n",
    "\n",
    "X_test=np.array(data)"
   ]
  },
  {
   "cell_type": "code",
   "execution_count": null,
   "metadata": {},
   "outputs": [],
   "source": [
    "with tf.device('/GPU:0'):\n",
    "    pred = np.argmax(model.predict(X_test), axis=-1)\n",
    "\n",
    "#Accuracy with the test data\n",
    "from sklearn.metrics import accuracy_score\n",
    "print(accuracy_score(labels, pred))"
   ]
  },
  {
   "cell_type": "code",
   "execution_count": null,
   "metadata": {},
   "outputs": [],
   "source": [
    "def predict_image(model_path, image_path):\n",
    "    # Load the model\n",
    "    model = tf.keras.models.load_model(model_path)\n",
    "    \n",
    "    # Load and preprocess the image\n",
    "    image = cv2.imread(image_path)\n",
    "    image = cv2.resize(image, (30, 30))\n",
    "    image = np.expand_dims(image, axis=0)\n",
    "    image = image / 255.0\n",
    "    \n",
    "    # Make predictions\n",
    "    predictions = model.predict(image)\n",
    "    predicted_label = np.argmax(predictions)\n",
    "    \n",
    "    return predicted_label\n",
    "\n",
    "model_path = \"/kaggle/working/saved_model.h5\"\n",
    "image_path = \"/kaggle/input/gtsrb-german-traffic-sign/Test/00080.png\"\n",
    "\n",
    "predicted_label = predict_image(model_path, image_path)\n",
    "print(\"Predicted Label:\", classes[predicted_label])"
   ]
  },
  {
   "cell_type": "code",
   "execution_count": null,
   "metadata": {},
   "outputs": [],
   "source": [
    "#loading test data and predictions\n",
    "test = pd.read_csv(data_dir + '/Test.csv')\n",
    "\n",
    "labels = test[\"ClassId\"].values\n",
    "imgs = test[\"Path\"].values\n",
    "\n",
    "data =[]\n",
    "\n",
    "for img in imgs:\n",
    "    try:\n",
    "        image = cv2.imread(data_dir + '/' +img)\n",
    "        image_fromarray = Image.fromarray(image, 'RGB')\n",
    "        resize_image = image_fromarray.resize((IMG_HEIGHT, IMG_WIDTH))\n",
    "        data.append(np.array(resize_image))\n",
    "    except:\n",
    "        print(\"Error in \" + img)\n",
    "X_test = np.array(data)\n",
    "# X_test = X_test/255\n",
    "\n",
    "\n",
    "predict_x=model.predict(X_test) \n",
    "pred=np.argmax(predict_x,axis=1)\n",
    "\n",
    "\n",
    "\n",
    "#Accuracy with the test data\n",
    "print('Test Data accuracy: ',accuracy_score(labels, pred)*100)"
   ]
  },
  {
   "cell_type": "code",
   "execution_count": null,
   "metadata": {},
   "outputs": [],
   "source": [
    "#confusion metrix\n",
    "from sklearn.metrics import confusion_matrix\n",
    "cf = confusion_matrix(labels, pred)\n",
    "cf"
   ]
  },
  {
   "cell_type": "code",
   "execution_count": null,
   "metadata": {},
   "outputs": [],
   "source": [
    "#visualizing confusion metrix\n",
    "import seaborn as sns\n",
    "df_cm = pd.DataFrame(cf, index = classes,  columns = classes)\n",
    "plt.figure(figsize = (20,20))\n",
    "sns.heatmap(df_cm, annot=True)"
   ]
  },
  {
   "cell_type": "code",
   "execution_count": null,
   "metadata": {},
   "outputs": [],
   "source": [
    "#classification report\n",
    "from sklearn.metrics import classification_report\n",
    "\n",
    "print(classification_report(labels, pred))"
   ]
  },
  {
   "cell_type": "code",
   "execution_count": null,
   "metadata": {},
   "outputs": [],
   "source": [
    "#prediction on test data\n",
    "plt.figure(figsize = (30, 30))\n",
    "\n",
    "start_index = 0\n",
    "for i in range(12):\n",
    "    plt.subplot(3, 4, i + 1)\n",
    "    plt.grid(False)\n",
    "    plt.xticks([])\n",
    "    plt.yticks([])\n",
    "    prediction = pred[start_index + i]\n",
    "    actual = labels[start_index + i]\n",
    "    col = 'black'\n",
    "    if prediction != actual:\n",
    "        col = 'r'\n",
    "    plt.xlabel('Actual={} || Pred={}'.format(classes[actual], classes[prediction]), color = col)\n",
    "    plt.imshow(X_test[start_index + i])\n",
    "plt.show()"
   ]
  },
  {
   "cell_type": "code",
   "execution_count": null,
   "metadata": {},
   "outputs": [],
   "source": [
    "#prediction \n",
    "from PIL import Image\n",
    "\n",
    "def predict_Image(img):\n",
    "    data=[]\n",
    "    image=Image.open(img).resize((30,30))\n",
    "    data.append(np.array(image))\n",
    "    X_test = np.array(data)\n",
    "    \n",
    "    predict_x=model.predict(X_test) \n",
    "    Y_pred=np.argmax(predict_x,axis=1)\n",
    "    return image,Y_pred"
   ]
  },
  {
   "cell_type": "code",
   "execution_count": null,
   "metadata": {},
   "outputs": [],
   "source": [
    "plot,prediction = predict_Image('/kaggle/input/gtsrb-german-traffic-sign/Test/00115.png')\n",
    "print(\"\\nPredicted: \" ,classes[prediction.item()]) #item() converts numpy int64 to native int\n",
    "plt.imshow(plot)\n",
    "plt.show()"
   ]
  }
 ],
 "metadata": {
  "language_info": {
   "name": "python"
  }
 },
 "nbformat": 4,
 "nbformat_minor": 2
}
