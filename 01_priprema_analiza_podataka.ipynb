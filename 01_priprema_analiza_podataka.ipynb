{
 "cells": [
  {
   "cell_type": "code",
   "execution_count": null,
   "metadata": {},
   "outputs": [],
   "source": [
    "import numpy as np\n",
    "import matplotlib.pyplot as plt\n",
    "import cv2\n",
    "import os\n",
    "import pandas as pd\n",
    "import random\n",
    "import seaborn as sn"
   ]
  },
  {
   "cell_type": "code",
   "execution_count": null,
   "metadata": {},
   "outputs": [],
   "source": [
    "test=pd.read_csv(\"/kaggle/input/gtsrb-german-traffic-sign/Test.csv\")\n",
    "train=pd.read_csv(\"/kaggle/input/gtsrb-german-traffic-sign/Train.csv\")\n",
    "meta=pd.read_csv(\"/kaggle/input/gtsrb-german-traffic-sign/Meta.csv\")"
   ]
  },
  {
   "cell_type": "code",
   "execution_count": null,
   "metadata": {},
   "outputs": [],
   "source": [
    "meta"
   ]
  },
  {
   "cell_type": "code",
   "execution_count": null,
   "metadata": {},
   "outputs": [],
   "source": [
    "train_labels=train.merge(meta,left_on=\"ClassId\",right_on=\"ClassId\")\n",
    "test_labels=test.merge(meta,left_on=\"ClassId\",right_on=\"ClassId\")"
   ]
  },
  {
   "cell_type": "code",
   "execution_count": null,
   "metadata": {},
   "outputs": [],
   "source": [
    "test_images=\"/kaggle/input/gtsrb-german-traffic-sign/\"+test[\"Path\"]\n",
    "train_images=\"/kaggle/input/gtsrb-german-traffic-sign/\"+train[\"Path\"]\n",
    "Meta_images=\"/kaggle/input/gtsrb-german-traffic-sign/\"+meta[\"Path\"]"
   ]
  },
  {
   "cell_type": "code",
   "execution_count": null,
   "metadata": {},
   "outputs": [],
   "source": [
    "test"
   ]
  },
  {
   "cell_type": "code",
   "execution_count": null,
   "metadata": {},
   "outputs": [],
   "source": [
    "#exploring Meta.csv file\n",
    "\n",
    "print(\"\")\n",
    "print(\"------------------------------------------------\")\n",
    "print(meta_df.head())\n",
    "print(\"------------------------------------------------\")\n",
    "\n",
    "print(\"number of classes in the dataset:\",meta_df.ClassId.nunique())\n",
    "print(\"number of Shape Ids in the dataset:\",meta_df.ShapeId.nunique())\n",
    "print(\"number of Color Ids in the dataset:\",meta_df.ColorId.nunique())\n",
    "print(\"number of Sign Ids in the dataset:\",meta_df.SignId.nunique())\n",
    "print(\"\")"
   ]
  },
  {
   "cell_type": "code",
   "execution_count": null,
   "metadata": {},
   "outputs": [],
   "source": [
    "signs = [os.path.join(data_path, meta_df.Path.to_list()[i]) for i in range(43)]\n",
    "fig, axes = plt.subplots(11, 4, figsize=(15, 10))\n",
    "for i, image_path in enumerate(signs):\n",
    "    image = Image.open(image_path)\n",
    "    row = i // 4\n",
    "    col = i % 4\n",
    "    axes[row, col].imshow(image)\n",
    "    axes[row, col].axis('off')\n",
    "    \n",
    "\n",
    "plt.show();"
   ]
  },
  {
   "cell_type": "code",
   "execution_count": null,
   "metadata": {},
   "outputs": [],
   "source": [
    "# See some traffic sign examples...\n",
    "plt.figure(figsize=(2,2))\n",
    "plt.subplot(131)\n",
    "plt.axis(\"off\")\n",
    "img=cv2.imread(test_images[0])\n",
    "plt.imshow(img)\n",
    "plt.subplot(132)\n",
    "img2=cv2.imread(train_images[0])\n",
    "plt.imshow(img2)\n",
    "plt.axis(\"off\")\n",
    "plt.subplot(133)\n",
    "img3=cv2.imread(Meta_images[0])\n",
    "plt.imshow(img3)\n",
    "plt.axis(\"off\")\n",
    "plt.show()"
   ]
  },
  {
   "cell_type": "code",
   "execution_count": null,
   "metadata": {},
   "outputs": [],
   "source": [
    "#Graph all original signs from Meta with their ClassIds\n",
    "num_signs=43\n",
    "num_cols=6\n",
    "num_rows=num_signs//num_cols+1\n",
    "\n",
    "for i in range(num_signs):\n",
    "    plt.figure(figsize=(13,13))\n",
    "    plt.subplot(num_rows,num_cols,i+1)\n",
    "    img=cv2.imread(Meta_images[i])\n",
    "    plt.axis(\"off\")\n",
    "    plt.title(meta[\"ClassId\"][i])\n",
    "    plt.imshow(img);"
   ]
  },
  {
   "cell_type": "code",
   "execution_count": null,
   "metadata": {},
   "outputs": [],
   "source": [
    "# As seen in the picture,distribution of the classid's are the resemble to one another\n",
    "sns.histplot(train[\"ClassId\"],label=\"train\")\n",
    "sns.histplot(test[\"ClassId\"],label=\"test\")\n",
    "plt.grid(alpha=.6)\n",
    "plt.legend();"
   ]
  },
  {
   "cell_type": "code",
   "execution_count": null,
   "metadata": {},
   "outputs": [],
   "source": [
    "plt.figure(figsize=(20,10))\n",
    "plt.subplot(211)\n",
    "train[\"ClassId\"].value_counts().plot(kind=\"bar\",title=\"ClassID Frequency In Train Set\")\n",
    "\n",
    "plt.subplot(212)\n",
    "test[\"ClassId\"].value_counts().plot(kind=\"bar\",title=\"ClassID Frequency In Test Set\")"
   ]
  },
  {
   "cell_type": "code",
   "execution_count": null,
   "metadata": {},
   "outputs": [],
   "source": [
    "meta_df = pd.read_csv('/kaggle/input/gtsrb-german-traffic-sign/Meta.csv')\n",
    "train_df = pd.read_csv('/kaggle/input/gtsrb-german-traffic-sign/Train.csv')\n",
    "test_df = pd.read_csv('/kaggle/input/gtsrb-german-traffic-sign/Test.csv')"
   ]
  },
  {
   "cell_type": "code",
   "execution_count": null,
   "metadata": {},
   "outputs": [],
   "source": [
    "train_path= '/kaggle/input/gtsrb-german-traffic-sign/Train'\n",
    "NUM_CATEGORIES = len(os.listdir(train_path))\n",
    "NUM_CATEGORIES"
   ]
  },
  {
   "cell_type": "code",
   "execution_count": null,
   "metadata": {},
   "outputs": [],
   "source": [
    "from smartkit.show import show_images\n",
    "filenames = meta_df['Path'].to_list()\n",
    "y_meta = meta_df['ClassId'].to_list()\n",
    "x_meta = []\n",
    "loading_max = len(filenames)\n",
    "for i, filename in enumerate(filenames):\n",
    "    image = io.imread(os.path.join('./podaci_klasifikacija/Meta', filename))\n",
    "    x_meta.append(image)\n",
    "x_meta = np.array(x_meta, dtype=object)\n",
    "y_meta = np.array(y_meta)\n",
    "show_images(\n",
    "    x_meta,\n",
    "    y_meta,\n",
    "    range(43),\n",
    "    columns=8,\n",
    "    figure_size=(2,2),\n",
    "    show_colorbar=False,\n",
    "    y_pred=None,\n",
    "    color_map='binary'\n",
    ")"
   ]
  },
  {
   "cell_type": "code",
   "execution_count": null,
   "metadata": {},
   "outputs": [],
   "source": [
    "#exploring Train.csv file\n",
    "\n",
    "print(\"\")\n",
    "print(\"------------------------------------------------\")\n",
    "print(train_df.head())\n",
    "print(\"------------------------------------------------\")\n",
    "\n",
    "print(\"number of Training Samples in the dataset:\",train_df.shape[0])\n",
    "print(\"number of Test Samples in the dataset:\",test_df.shape[0])\n",
    "print(\"number of Classes in the dataset:\",train_df[\"ClassId\"].nunique())\n",
    "print(\"The Maximum Width:\",train_df[\"Width\"].max())\n",
    "print(\"The Maximum Height:\",train_df[\"Height\"].max())"
   ]
  },
  {
   "cell_type": "code",
   "execution_count": null,
   "metadata": {},
   "outputs": [],
   "source": [
    "classes = train_df[\"ClassId\"].value_counts().head(43)\n",
    "plt.figure(figsize=(12,6))\n",
    "plt.title(\"Distribution of Class Labels in the dataset\")\n",
    "plt.ylabel('Counts')\n",
    "plt.xlabel('Classes')\n",
    "\n",
    "sns.barplot(y=classes.values, x=classes.index,color='g');"
   ]
  },
  {
   "cell_type": "code",
   "execution_count": null,
   "metadata": {},
   "outputs": [],
   "source": [
    "data_path = '/kaggle/input/gtsrb-german-traffic-sign'\n",
    "train_data_path = os.path.join(data_path, 'Train')\n",
    "valid_data_path = os.path.join(data_path, 'Test')"
   ]
  },
  {
   "cell_type": "code",
   "execution_count": null,
   "metadata": {},
   "outputs": [],
   "source": [
    "folder_names = [os.path.join(train_data_path, str(i)) for i in random.choices(range(43), k=20)]\n",
    "file_names = [os.path.join(fldr, os.listdir(fldr)[0]) for fldr in folder_names]\n",
    "\n",
    "fig, axes = plt.subplots(4, 5, figsize=(12, 8))\n",
    "for i, image_path in enumerate(file_names):\n",
    "    image = Image.open(image_path)\n",
    "    row = i // 5\n",
    "    col = i % 5\n",
    "    axes[row, col].imshow(image)\n",
    "    axes[row, col].axis('off')\n",
    "\n",
    "plt.show();"
   ]
  },
  {
   "cell_type": "code",
   "execution_count": null,
   "metadata": {},
   "outputs": [],
   "source": [
    "#class weights to handle imbalanced dataset\n",
    "class_weights = class_weight.compute_class_weight(\n",
    "                                        class_weight = \"balanced\",\n",
    "                                        classes = np.unique(y_train),\n",
    "                                        y = y_train                                                   \n",
    "                                    )\n",
    "class_weights = dict(zip(np.unique(y_train), class_weights))\n",
    "class_weights = {int(label): weight for label, weight in class_weights.items()}\n",
    "class_weights"
   ]
  },
  {
   "cell_type": "code",
   "execution_count": null,
   "metadata": {},
   "outputs": [],
   "source": [
    "# Choose a sample image\n",
    "sample_image_path = '../input/gtsrb-german-traffic-sign/Train/0/00000_00004_00022.png'\n",
    "\n",
    "# Load and show the original image\n",
    "sample_image = Image.open(sample_image_path)\n",
    "plt.subplot(1, 2, 1)\n",
    "plt.imshow(sample_image)\n",
    "plt.title('Original Image')\n",
    "plt.axis('off')\n",
    "\n",
    "# resize and show the image\n",
    "preprocessed_image = sample_image.resize((30, 30))\n",
    "plt.subplot(1, 2, 2)\n",
    "plt.imshow(preprocessed_image)\n",
    "plt.title('Proceessed Image')\n",
    "plt.axis('off')\n",
    "\n",
    "plt.tight_layout()\n",
    "plt.show()"
   ]
  },
  {
   "cell_type": "code",
   "execution_count": null,
   "metadata": {},
   "outputs": [],
   "source": [
    "# Read the training dataset CSV file into a Pandas DataFrame.\n",
    "train_data = pd.read_csv('/kaggle/input/gtsrb-german-traffic-sign/Train.csv', usecols=['ClassId', 'Path', 'Width', 'Height'])\n",
    "\n",
    "# Read the testing dataset CSV file into a Pandas DataFrame.\n",
    "test_data = pd.read_csv('/kaggle/input/gtsrb-german-traffic-sign/Test.csv', usecols=['ClassId', 'Path', 'Width', 'Height'])\n",
    "\n",
    "# Rename the columns in the training dataset for consistency and clarity.\n",
    "train_data.rename({'ClassId': 'label', 'Path': 'path'}, inplace=True, axis=1)\n",
    "\n",
    "# Rename the columns in the testing dataset for consistency and clarity.\n",
    "test_data.rename({'ClassId': 'label', 'Path': 'path'}, inplace=True, axis=1)\n",
    "\n",
    "# Display the first few rows of the modified training dataset to inspect the changes.\n",
    "train_data.head()"
   ]
  },
  {
   "cell_type": "code",
   "execution_count": null,
   "metadata": {},
   "outputs": [],
   "source": [
    "# Display the first few rows of the testing dataset using the head() function.\n",
    "test_data.head()"
   ]
  },
  {
   "cell_type": "code",
   "execution_count": null,
   "metadata": {},
   "outputs": [],
   "source": [
    "# Print the number of classes \n",
    "print('NO. of classes') \n",
    "print(train_data['label'].nunique())"
   ]
  },
  {
   "cell_type": "code",
   "execution_count": null,
   "metadata": {},
   "outputs": [],
   "source": [
    "# Import the necessary libraries.\n",
    "import random\n",
    "from matplotlib.image import imread\n",
    "\n",
    "# Get the current working directory.\n",
    "data_dir = os.getcwd()\n",
    "\n",
    "# Extract the 'path' column values from the testing dataset.\n",
    "imgs = test_data['path'].values\n",
    "\n",
    "# Create a matplotlib figure with a size of 25x25 inches.\n",
    "plt.figure(figsize=(25, 25))\n",
    "\n",
    "# Loop to display 25 random images from the dataset.\n",
    "for i in range(1, 26):\n",
    "    # Create subplots in a 5x5 grid.\n",
    "    plt.subplot(5, 5, i)\n",
    "    \n",
    "    # Select a random image path from the dataset.\n",
    "    random_image_path = data_dir + '/' + random.choice(imgs)\n",
    "    \n",
    "    # Read and load the random image using imread from matplotlib.\n",
    "    random_image = imread(random_image_path)\n",
    "    \n",
    "    # Display the image.\n",
    "    plt.imshow(random_image)\n",
    "    \n",
    "    # Turn off axis labels.\n",
    "    plt.axis('off')\n",
    "    \n",
    "    # Display the width of the image as the x-axis label.\n",
    "    plt.xlabel(random_image.shape[0], fontsize=20)\n",
    "    \n",
    "    # Display the height of the image as the y-axis label.\n",
    "    plt.ylabel(random_image.shape[0], fontsize=20)"
   ]
  },
  {
   "cell_type": "code",
   "execution_count": null,
   "metadata": {},
   "outputs": [],
   "source": [
    "# number of images in each class\n",
    "# Dictionary to store the count of images in each class.\n",
    "data_dic = {}\n",
    "\n",
    "# Loop through each folder (class) in the current path.\n",
    "for folder in os.listdir(cur_path):\n",
    "    # Count the number of files (images) in the current class folder.\n",
    "    data_dic[folder] = len(os.listdir(cur_path + '/' + folder))\n",
    "\n",
    "# Create a Pandas Series from the dictionary.\n",
    "data_df = pd.Series(data_dic)\n",
    "\n",
    "# Create a bar plot to visualize the distribution of images across classes.\n",
    "plt.figure(figsize=(15, 6))\n",
    "data_df.sort_values().plot(kind='bar')  # Sort values for a better visualization.\n",
    "plt.xlabel('Classes')  # Label for the x-axis.\n",
    "plt.ylabel('Number of images')  # Label for the y-axis."
   ]
  },
  {
   "cell_type": "code",
   "execution_count": null,
   "metadata": {},
   "outputs": [],
   "source": [
    "folders = os.listdir(train_path)\n",
    "\n",
    "train_number = []\n",
    "class_num = []\n",
    "\n",
    "for folder in folders:\n",
    "    train_files = os.listdir(train_path + '/' + folder)\n",
    "    train_number.append(len(train_files))\n",
    "    class_num.append(classes[int(folder)])\n",
    "    \n",
    "# Sorting the dataset on the basis of number of images in each class\n",
    "zipped_lists = zip(train_number, class_num)\n",
    "sorted_pairs = sorted(zipped_lists)\n",
    "tuples = zip(*sorted_pairs)\n",
    "train_number, class_num = [ list(tuple) for tuple in  tuples]\n",
    "\n",
    "# Plotting the number of images in each class\n",
    "plt.figure(figsize=(21,10))  \n",
    "plt.bar(class_num, train_number)\n",
    "plt.xticks(class_num, rotation='vertical')\n",
    "plt.show()"
   ]
  },
  {
   "cell_type": "code",
   "execution_count": null,
   "metadata": {},
   "outputs": [],
   "source": [
    "# Visualizing 25 random images from test data\n",
    "import random\n",
    "from matplotlib.image import imread\n",
    "\n",
    "test = pd.read_csv(data_dir + '/Test.csv')\n",
    "imgs = test[\"Path\"].values\n",
    "\n",
    "plt.figure(figsize=(25,25))\n",
    "\n",
    "for i in range(1,26):\n",
    "    plt.subplot(5,5,i)\n",
    "    random_img_path = data_dir + '/' + random.choice(imgs)\n",
    "    rand_img = imread(random_img_path)\n",
    "    plt.imshow(rand_img)\n",
    "    plt.grid(visible=0)\n",
    "    plt.xlabel(rand_img.shape[1], fontsize = 20)#width of image\n",
    "    plt.ylabel(rand_img.shape[0], fontsize = 20)#height of image"
   ]
  },
  {
   "cell_type": "code",
   "execution_count": null,
   "metadata": {},
   "outputs": [],
   "source": [
    "import math\n",
    "import csv\n",
    "\n",
    "# extract class ID: sign name as key:value pair into dictionary\n",
    "sign_dict = {}\n",
    "with open(\"assets/data/signnames.csv\") as signnames_file:\n",
    "    reader = csv.reader(signnames_file)\n",
    "    # Skip the first row of the csv file\n",
    "    next(reader)    \n",
    "    for rows in reader:\n",
    "        sign_dict[int(rows[0])] = rows[1]\n",
    "\n",
    "# set the figure size to be width = 40, height = 60 inches\n",
    "fig = plt.figure(figsize=(40,60))\n",
    "# set the width space between subplots = 1, set the height space between subplots = 0.5\n",
    "fig.subplots_adjust(hspace = 0.5, wspace = 1)\n",
    "# set the subplot to have 15 rows and 3 columns\n",
    "nrows = math.ceil(n_classes/3) # 15 rows\n",
    "ncols = math.ceil(n_classes/15) # 3 columns\n",
    "# Display Image Gallery shows a nice distribution of images with titles\n",
    "for i in range(n_classes):\n",
    "    # specify subplot index (i+1) as place to plot image in figure\n",
    "    sub = fig.add_subplot(nrows, ncols, i + 1)\n",
    "    image = X_train[indices[i]]\n",
    "    # set the title for the subplot\n",
    "    title = \"{}: {}\".format(i, sign_dict[i])\n",
    "    sub.set_title(title, size=35)\n",
    "    # plot the image in the subplot\n",
    "    sub.imshow(image, interpolation = 'nearest')\n",
    "\n",
    "fig.savefig('assets/data/images/output/traffic_sign_gallery.jpg', bbox_inches='tight')"
   ]
  }
 ],
 "metadata": {
  "language_info": {
   "name": "python"
  }
 },
 "nbformat": 4,
 "nbformat_minor": 2
}
