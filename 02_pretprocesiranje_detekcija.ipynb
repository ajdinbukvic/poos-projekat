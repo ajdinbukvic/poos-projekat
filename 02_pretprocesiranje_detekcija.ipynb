{
 "cells": [
  {
   "cell_type": "code",
   "execution_count": null,
   "metadata": {},
   "outputs": [],
   "source": [
    "import os\n",
    "import cv2\n",
    "import random\n",
    "import numpy as np\n",
    "import pandas as pd\n",
    "from tqdm import tqdm\n",
    "import shutil\n",
    "from shutil import copyfile\n",
    "import matplotlib.pyplot as plt\n",
    "from PIL import Image\n",
    "import ultralytics\n",
    "from ultralytics import YOLO"
   ]
  },
  {
   "cell_type": "code",
   "execution_count": null,
   "metadata": {},
   "outputs": [],
   "source": [
    "ultralytics.checks()"
   ]
  },
  {
   "cell_type": "code",
   "execution_count": null,
   "metadata": {},
   "outputs": [],
   "source": [
    "root_path = \"./podaci_detekcija/\"\n",
    "default_path = './podaci_detekcija/ts/ts'\n",
    "train_path = './podaci_detekcija/train/'\n",
    "valid_path = './podaci_detekcija/valid/'\n",
    "test_path = './podaci_detekcija/test/'"
   ]
  },
  {
   "cell_type": "code",
   "execution_count": null,
   "metadata": {},
   "outputs": [],
   "source": [
    "os.makedirs(os.path.join(root_path, \"images\", \"train\"), exist_ok=True)\n",
    "os.makedirs(os.path.join(root_path, \"images\", \"valid\"), exist_ok=True)\n",
    "os.makedirs(os.path.join(root_path, \"images\", \"test\"), exist_ok=True)"
   ]
  },
  {
   "cell_type": "code",
   "execution_count": null,
   "metadata": {},
   "outputs": [],
   "source": [
    "os.makedirs(os.path.join(root_path, \"labels\", \"train\"), exist_ok=True)\n",
    "os.makedirs(os.path.join(root_path, \"labels\", \"valid\"), exist_ok=True)\n",
    "os.makedirs(os.path.join(root_path, \"labels\", \"test\"), exist_ok=True)"
   ]
  },
  {
   "cell_type": "code",
   "execution_count": null,
   "metadata": {},
   "outputs": [],
   "source": [
    "image_files = [f for f in os.listdir(default_path) if f.endswith('.jpg')]"
   ]
  },
  {
   "cell_type": "code",
   "execution_count": null,
   "metadata": {},
   "outputs": [],
   "source": [
    "random.shuffle(image_files)"
   ]
  },
  {
   "cell_type": "code",
   "execution_count": null,
   "metadata": {},
   "outputs": [],
   "source": [
    "train_ratio = 0.7\n",
    "valid_ratio = 0.2\n",
    "test_ratio = 0.1\n",
    "total_samples = len(image_files)\n",
    "train_split = int(train_ratio * total_samples)\n",
    "valid_split = int((1-(train_ratio + test_ratio)) * total_samples)\n",
    "train_files = image_files[:train_split]\n",
    "valid_files = image_files[train_split:train_split+valid_split]\n",
    "test_files = image_files[train_split+valid_split:]"
   ]
  },
  {
   "cell_type": "code",
   "execution_count": null,
   "metadata": {},
   "outputs": [],
   "source": [
    "print(f\"Ukupno slika: {total_samples}\")\n",
    "print(f\"Trening slike: {len(train_files)}\")\n",
    "print(f\"Validacijske slike: {len(valid_files)}\")\n",
    "print(f\"Test slike: {len(test_files)}\")\n",
    "print(\"---------------------------------------------\")\n",
    "print(train_files)\n",
    "print(valid_files)\n",
    "print(test_files)"
   ]
  },
  {
   "cell_type": "code",
   "execution_count": null,
   "metadata": {},
   "outputs": [],
   "source": [
    "for file in train_files:\n",
    "  copyfile(os.path.join(default_path, file), os.path.join(root_path, \"images\", \"train\", file))\n",
    "  copyfile(os.path.join(default_path, file.replace('.jpg', '.txt')), os.path.join(root_path, \"labels\", \"train\", file.replace('.jpg', '.txt')))\n",
    "    \n",
    "for file in valid_files:\n",
    "  copyfile(os.path.join(default_path, file), os.path.join(root_path, \"images\", \"valid\", file))\n",
    "  copyfile(os.path.join(default_path, file.replace('.jpg', '.txt')), os.path.join(root_path, \"labels\", \"valid\", file.replace('.jpg', '.txt')))\n",
    "    \n",
    "for file in test_files:\n",
    "  copyfile(os.path.join(default_path, file), os.path.join(root_path, \"images\", \"test\", file))\n",
    "  copyfile(os.path.join(default_path, file.replace('.jpg', '.txt')), os.path.join(root_path, \"labels\", \"test\", file.replace('.jpg', '.txt')))"
   ]
  },
  {
   "cell_type": "code",
   "execution_count": null,
   "metadata": {},
   "outputs": [],
   "source": [
    "import yaml\n",
    "\n",
    "data_yaml = dict(\n",
    "    train = 'train ',\n",
    "    val = 'valid  ',\n",
    "    test = 'test',\n",
    "    nc = 4,\n",
    "    names =['prohibitor','danger','mandatory','other']\n",
    ")\n",
    "\n",
    "with open('data.yaml', 'w') as outfile:\n",
    "    yaml.dump(data_yaml, outfile, default_flow_style=True)"
   ]
  },
  {
   "cell_type": "code",
   "execution_count": null,
   "metadata": {},
   "outputs": [],
   "source": [
    "names = ['prohibitor','danger','mandatory','other']\n",
    "M = list(range(len(names)))\n",
    "class_map = dict(zip(M,names))"
   ]
  },
  {
   "cell_type": "code",
   "execution_count": null,
   "metadata": {},
   "outputs": [],
   "source": [
    "model = YOLO(\"yolov8x.pt\") "
   ]
  },
  {
   "cell_type": "code",
   "execution_count": null,
   "metadata": {},
   "outputs": [],
   "source": [
    "results = model.train(data='./data.yaml', epochs=10, imgsz=480)\n",
    "# C:\\Users\\DT User3\\Desktop\\AjdinBukvic_POOS_Projekat\\podaci_detekcija\\images"
   ]
  }
 ],
 "metadata": {
  "kernelspec": {
   "display_name": "Python 3",
   "language": "python",
   "name": "python3"
  },
  "language_info": {
   "codemirror_mode": {
    "name": "ipython",
    "version": 3
   },
   "file_extension": ".py",
   "mimetype": "text/x-python",
   "name": "python",
   "nbconvert_exporter": "python",
   "pygments_lexer": "ipython3",
   "version": "3.10.0"
  }
 },
 "nbformat": 4,
 "nbformat_minor": 2
}
